{
 "cells": [
  {
   "cell_type": "markdown",
   "metadata": {},
   "source": [
    "<center>\n",
    "\n",
    "# To Do\n",
    "\n",
    "</center>\n",
    "\n",
    "1. Create a main file (this notebook) which outputs all the major results, to reproduce the results of the paper.\n",
    "    * Identify which files need to be run\n",
    "    * Find out how to properly import dependencies in the .py files \n",
    "    \n",
    "<center>\n",
    "    \n",
    "# . . .\n",
    "\n",
    "</center>"
   ]
  },
  {
   "cell_type": "markdown",
   "metadata": {},
   "source": [
    "# Running the Main Files"
   ]
  },
  {
   "cell_type": "code",
   "execution_count": 6,
   "metadata": {},
   "outputs": [
    {
     "name": "stdout",
     "output_type": "stream",
     "text": [
      "bvhplay   __init__.py  models\t  scripts\r\n",
      "datasets  main.ipynb   README.md  Training\r\n"
     ]
    }
   ],
   "source": [
    "! ls  # Terminal command, to show items in directory"
   ]
  },
  {
   "cell_type": "code",
   "execution_count": 3,
   "metadata": {},
   "outputs": [],
   "source": [
    "%run -i 'datasets/EmilyaDataset/src/EmilyData_utils.py'  # Runs the EmilyData_utils.py file"
   ]
  },
  {
   "cell_type": "markdown",
   "metadata": {},
   "source": [
    "The above runs without errors.\n",
    "\n",
    "### Most files can not be run, as we are missing module dependencies, e.g. 'EmilyData_utils'.\n",
    "\n",
    "I have run the EmilyData_utils.py file in the cell above, but this did not appear to have created this module."
   ]
  },
  {
   "cell_type": "code",
   "execution_count": 2,
   "metadata": {},
   "outputs": [
    {
     "ename": "ModuleNotFoundError",
     "evalue": "No module named 'EmilyData_utils'",
     "output_type": "error",
     "traceback": [
      "\u001b[0;31m---------------------------------------------------------------------------\u001b[0m",
      "\u001b[0;31mModuleNotFoundError\u001b[0m                       Traceback (most recent call last)",
      "\u001b[0;32m~/Data Science/Thesis/Motion_Synthesis_Adversarial_Learning-master/datasets/dataset.py\u001b[0m in \u001b[0;36m<module>\u001b[0;34m\u001b[0m\n\u001b[1;32m      2\u001b[0m \u001b[0mIn\u001b[0m \u001b[0mthis\u001b[0m \u001b[0mfile\u001b[0m\u001b[0;34m,\u001b[0m \u001b[0mdatasets\u001b[0m \u001b[0;32mclass\u001b[0m \u001b[0mwill\u001b[0m \u001b[0mbe\u001b[0m \u001b[0mdefined\u001b[0m\u001b[0;34m.\u001b[0m\u001b[0;34m\u001b[0m\u001b[0;34m\u001b[0m\u001b[0m\n\u001b[1;32m      3\u001b[0m '''\n\u001b[0;32m----> 4\u001b[0;31m \u001b[0;32mfrom\u001b[0m \u001b[0mEmilyaDataset\u001b[0m\u001b[0;34m.\u001b[0m\u001b[0msrc\u001b[0m\u001b[0;34m.\u001b[0m\u001b[0mget_dataset\u001b[0m \u001b[0;32mimport\u001b[0m \u001b[0;34m*\u001b[0m\u001b[0;34m\u001b[0m\u001b[0;34m\u001b[0m\u001b[0m\n\u001b[0m\u001b[1;32m      5\u001b[0m \u001b[0;32mfrom\u001b[0m \u001b[0mEmilyaDataset\u001b[0m\u001b[0;34m.\u001b[0m\u001b[0msrc\u001b[0m\u001b[0;34m.\u001b[0m\u001b[0mposture_dataset\u001b[0m \u001b[0;32mimport\u001b[0m \u001b[0mget_postures_EmilyDataset\u001b[0m\u001b[0;34m\u001b[0m\u001b[0;34m\u001b[0m\u001b[0m\n\u001b[1;32m      6\u001b[0m \u001b[0;32mimport\u001b[0m \u001b[0mmath\u001b[0m\u001b[0;34m\u001b[0m\u001b[0;34m\u001b[0m\u001b[0m\n",
      "\u001b[0;32m~/Data Science/Thesis/Motion_Synthesis_Adversarial_Learning-master/datasets/EmilyaDataset/src/get_dataset.py\u001b[0m in \u001b[0;36m<module>\u001b[0;34m\u001b[0m\n\u001b[0;32m----> 1\u001b[0;31m \u001b[0;32mfrom\u001b[0m \u001b[0mEmilyData_utils\u001b[0m \u001b[0;32mimport\u001b[0m \u001b[0mget_hdf5_file_name\u001b[0m\u001b[0;34m,\u001b[0m\u001b[0mget_label_by_name\u001b[0m\u001b[0;34m,\u001b[0m\u001b[0mload_data_from_npz\u001b[0m\u001b[0;34m,\u001b[0m\u001b[0mnormalization_joint_angles\u001b[0m\u001b[0;34m\u001b[0m\u001b[0;34m\u001b[0m\u001b[0m\n\u001b[0m\u001b[1;32m      2\u001b[0m \u001b[0;32mfrom\u001b[0m \u001b[0mEmilyData_utils\u001b[0m \u001b[0;32mimport\u001b[0m \u001b[0mnormalization_vertical_position_per_subject\u001b[0m\u001b[0;34m,\u001b[0m\u001b[0mtruncate_long_sequence\u001b[0m\u001b[0;34m,\u001b[0m\u001b[0mcompute_speed_xz\u001b[0m\u001b[0;34m,\u001b[0m\u001b[0msplit_dataset\u001b[0m\u001b[0;34m\u001b[0m\u001b[0;34m\u001b[0m\u001b[0m\n\u001b[1;32m      3\u001b[0m \u001b[0;32mfrom\u001b[0m \u001b[0mEmilyData_utils\u001b[0m \u001b[0;32mimport\u001b[0m \u001b[0mnormalization_velocity\u001b[0m\u001b[0;34m,\u001b[0m\u001b[0mcompute_velocity_xz_plane\u001b[0m\u001b[0;34m,\u001b[0m\u001b[0mcompute_velocity_feature\u001b[0m\u001b[0;34m,\u001b[0m\u001b[0mdown_sampling\u001b[0m\u001b[0;34m,\u001b[0m\u001b[0mcount_distribution_length_frames\u001b[0m\u001b[0;34m\u001b[0m\u001b[0;34m\u001b[0m\u001b[0m\n\u001b[1;32m      4\u001b[0m \u001b[0;32mfrom\u001b[0m \u001b[0mEmilyData_utils\u001b[0m \u001b[0;32mimport\u001b[0m \u001b[0mplot_distribution_length\u001b[0m\u001b[0;34m,\u001b[0m\u001b[0mcompute_velocity_xz_plane_with_normalization\u001b[0m\u001b[0;34m,\u001b[0m\u001b[0mextract_activity\u001b[0m\u001b[0;34m,\u001b[0m\u001b[0mincremental_orientation\u001b[0m\u001b[0;34m\u001b[0m\u001b[0;34m\u001b[0m\u001b[0m\n\u001b[1;32m      5\u001b[0m \u001b[0;32mimport\u001b[0m \u001b[0mos\u001b[0m\u001b[0;34m.\u001b[0m\u001b[0mpath\u001b[0m \u001b[0;32mas\u001b[0m \u001b[0mpath\u001b[0m\u001b[0;34m\u001b[0m\u001b[0;34m\u001b[0m\u001b[0m\n",
      "\u001b[0;31mModuleNotFoundError\u001b[0m: No module named 'EmilyData_utils'"
     ]
    }
   ],
   "source": [
    "%run -i 'datasets/dataset.py'"
   ]
  },
  {
   "cell_type": "markdown",
   "metadata": {},
   "source": [
    "Will need to find out how to import these modules, as the models are imported like so:"
   ]
  },
  {
   "cell_type": "code",
   "execution_count": 5,
   "metadata": {},
   "outputs": [
    {
     "ename": "ModuleNotFoundError",
     "evalue": "No module named 'Seq_AAE_V1'",
     "output_type": "error",
     "traceback": [
      "\u001b[0;31m---------------------------------------------------------------------------\u001b[0m",
      "\u001b[0;31mModuleNotFoundError\u001b[0m                       Traceback (most recent call last)",
      "\u001b[0;32m~/Data Science/Thesis/Motion_Synthesis_Adversarial_Learning-master/scripts/classification_with_emotion_label.py\u001b[0m in \u001b[0;36m<module>\u001b[0;34m\u001b[0m\n\u001b[1;32m      1\u001b[0m \u001b[0;31m#evluate the emotion accuracy on the stylized sequences\u001b[0m\u001b[0;34m\u001b[0m\u001b[0;34m\u001b[0m\u001b[0;34m\u001b[0m\u001b[0m\n\u001b[0;32m----> 2\u001b[0;31m \u001b[0;32mfrom\u001b[0m \u001b[0mSeq_AAE_V1\u001b[0m\u001b[0;34m.\u001b[0m\u001b[0mdatasets\u001b[0m\u001b[0;34m.\u001b[0m\u001b[0mdataset\u001b[0m \u001b[0;32mimport\u001b[0m \u001b[0mEmilya_Dataset\u001b[0m\u001b[0;34m\u001b[0m\u001b[0;34m\u001b[0m\u001b[0m\n\u001b[0m\u001b[1;32m      3\u001b[0m \u001b[0;34m\u001b[0m\u001b[0m\n\u001b[1;32m      4\u001b[0m \u001b[0;34m\u001b[0m\u001b[0m\n\u001b[1;32m      5\u001b[0m \u001b[0;32mdef\u001b[0m \u001b[0mconvert_indices_2_onehot\u001b[0m\u001b[0;34m(\u001b[0m\u001b[0mtargets\u001b[0m\u001b[0;34m,\u001b[0m \u001b[0mnb_labels\u001b[0m\u001b[0;34m)\u001b[0m\u001b[0;34m:\u001b[0m\u001b[0;34m\u001b[0m\u001b[0;34m\u001b[0m\u001b[0m\n",
      "\u001b[0;31mModuleNotFoundError\u001b[0m: No module named 'Seq_AAE_V1'"
     ]
    }
   ],
   "source": [
    "%run -i 'scripts/classification_with_emotion_label.py'"
   ]
  }
 ],
 "metadata": {
  "kernelspec": {
   "display_name": "Python 3",
   "language": "python",
   "name": "python3"
  },
  "language_info": {
   "codemirror_mode": {
    "name": "ipython",
    "version": 3
   },
   "file_extension": ".py",
   "mimetype": "text/x-python",
   "name": "python",
   "nbconvert_exporter": "python",
   "pygments_lexer": "ipython3",
   "version": "3.6.7"
  }
 },
 "nbformat": 4,
 "nbformat_minor": 2
}
